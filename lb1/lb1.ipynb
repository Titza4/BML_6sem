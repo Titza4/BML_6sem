﻿{
 "cells": [
  {
   "metadata": {},
   "cell_type": "markdown",
   "source": "##ЛР 1  Линейная регрессия ­  Insurance (Medical Cost Personal Datasets)",
   "id": "d3c03883a38f0f0"
  },
  {
   "metadata": {},
   "cell_type": "markdown",
   "source": "### Жуйков Алексей Валерианович ИВТ 1.2",
   "id": "56c75fffc33cce73"
  },
  {
   "cell_type": "code",
   "id": "initial_id",
   "metadata": {
    "collapsed": true,
    "ExecuteTime": {
     "end_time": "2025-05-26T12:10:10.334453Z",
     "start_time": "2025-05-26T12:10:10.331074Z"
    }
   },
   "source": [
    "import numpy as np #для матричных вычислений\n",
    "import pandas as pd #для анализа и предобработки данных\n",
    "import matplotlib.pyplot as plt #для визуализации\n",
    "import seaborn as sns #для визуализации\n",
    "from sklearn import linear_model #линейные модели\n",
    "from sklearn import metrics #метрики\n",
    "from sklearn import preprocessing #предобработка\n",
    "from sklearn.model_selection import train_test_split #разделение выборки\n",
    "from sklearn.linear_model import LinearRegression\n",
    "from sklearn.preprocessing import MinMaxScaler, PolynomialFeatures"
   ],
   "outputs": [],
   "execution_count": 32
  },
  {
   "metadata": {
    "ExecuteTime": {
     "end_time": "2025-05-26T12:10:10.351915Z",
     "start_time": "2025-05-26T12:10:10.344164Z"
    }
   },
   "cell_type": "code",
   "source": [
    "data = pd.read_csv('insurance.csv')\n",
    "data.head()\n"
   ],
   "id": "b3e588ad926ee313",
   "outputs": [
    {
     "data": {
      "text/plain": [
       "   age     sex     bmi  children smoker     region      charges\n",
       "0   19  female  27.900         0    yes  southwest  16884.92400\n",
       "1   18    male  33.770         1     no  southeast   1725.55230\n",
       "2   28    male  33.000         3     no  southeast   4449.46200\n",
       "3   33    male  22.705         0     no  northwest  21984.47061\n",
       "4   32    male  28.880         0     no  northwest   3866.85520"
      ],
      "text/html": [
       "<div>\n",
       "<style scoped>\n",
       "    .dataframe tbody tr th:only-of-type {\n",
       "        vertical-align: middle;\n",
       "    }\n",
       "\n",
       "    .dataframe tbody tr th {\n",
       "        vertical-align: top;\n",
       "    }\n",
       "\n",
       "    .dataframe thead th {\n",
       "        text-align: right;\n",
       "    }\n",
       "</style>\n",
       "<table border=\"1\" class=\"dataframe\">\n",
       "  <thead>\n",
       "    <tr style=\"text-align: right;\">\n",
       "      <th></th>\n",
       "      <th>age</th>\n",
       "      <th>sex</th>\n",
       "      <th>bmi</th>\n",
       "      <th>children</th>\n",
       "      <th>smoker</th>\n",
       "      <th>region</th>\n",
       "      <th>charges</th>\n",
       "    </tr>\n",
       "  </thead>\n",
       "  <tbody>\n",
       "    <tr>\n",
       "      <th>0</th>\n",
       "      <td>19</td>\n",
       "      <td>female</td>\n",
       "      <td>27.900</td>\n",
       "      <td>0</td>\n",
       "      <td>yes</td>\n",
       "      <td>southwest</td>\n",
       "      <td>16884.92400</td>\n",
       "    </tr>\n",
       "    <tr>\n",
       "      <th>1</th>\n",
       "      <td>18</td>\n",
       "      <td>male</td>\n",
       "      <td>33.770</td>\n",
       "      <td>1</td>\n",
       "      <td>no</td>\n",
       "      <td>southeast</td>\n",
       "      <td>1725.55230</td>\n",
       "    </tr>\n",
       "    <tr>\n",
       "      <th>2</th>\n",
       "      <td>28</td>\n",
       "      <td>male</td>\n",
       "      <td>33.000</td>\n",
       "      <td>3</td>\n",
       "      <td>no</td>\n",
       "      <td>southeast</td>\n",
       "      <td>4449.46200</td>\n",
       "    </tr>\n",
       "    <tr>\n",
       "      <th>3</th>\n",
       "      <td>33</td>\n",
       "      <td>male</td>\n",
       "      <td>22.705</td>\n",
       "      <td>0</td>\n",
       "      <td>no</td>\n",
       "      <td>northwest</td>\n",
       "      <td>21984.47061</td>\n",
       "    </tr>\n",
       "    <tr>\n",
       "      <th>4</th>\n",
       "      <td>32</td>\n",
       "      <td>male</td>\n",
       "      <td>28.880</td>\n",
       "      <td>0</td>\n",
       "      <td>no</td>\n",
       "      <td>northwest</td>\n",
       "      <td>3866.85520</td>\n",
       "    </tr>\n",
       "  </tbody>\n",
       "</table>\n",
       "</div>"
      ]
     },
     "execution_count": 33,
     "metadata": {},
     "output_type": "execute_result"
    }
   ],
   "execution_count": 33
  },
  {
   "metadata": {
    "ExecuteTime": {
     "end_time": "2025-05-26T12:10:10.387414Z",
     "start_time": "2025-05-26T12:10:10.384335Z"
    }
   },
   "cell_type": "code",
   "source": "print(data.shape)\n",
   "id": "167b54c2c9689f7a",
   "outputs": [
    {
     "name": "stdout",
     "output_type": "stream",
     "text": [
      "(1338, 7)\n"
     ]
    }
   ],
   "execution_count": 34
  },
  {
   "metadata": {
    "ExecuteTime": {
     "end_time": "2025-05-26T12:10:10.419809Z",
     "start_time": "2025-05-26T12:10:10.415269Z"
    }
   },
   "cell_type": "code",
   "source": "display(data.isnull().sum())",
   "id": "b159882b1be6bc20",
   "outputs": [
    {
     "data": {
      "text/plain": [
       "age         0\n",
       "sex         0\n",
       "bmi         0\n",
       "children    0\n",
       "smoker      0\n",
       "region      0\n",
       "charges     0\n",
       "dtype: int64"
      ]
     },
     "metadata": {},
     "output_type": "display_data"
    }
   ],
   "execution_count": 35
  },
  {
   "metadata": {
    "ExecuteTime": {
     "end_time": "2025-05-26T12:10:10.460944Z",
     "start_time": "2025-05-26T12:10:10.451884Z"
    }
   },
   "cell_type": "code",
   "source": [
    "#кодируем бинарные категориальные признаки\n",
    "data['smoker'] = data['smoker'].apply(lambda x: 0 if x == 'no' else 1)\n",
    "data['sex'] = data['sex'].apply(lambda x: 0 if x == 'female' else 1)\n",
    "#оставшиеся категориальные признаки кодируем с помощью OneHot\n",
    "data = pd.get_dummies(data)\n",
    "data.head()"
   ],
   "id": "e5b30242ea1216bf",
   "outputs": [
    {
     "data": {
      "text/plain": [
       "   age  sex     bmi  children  smoker      charges  region_northeast  \\\n",
       "0   19    0  27.900         0       1  16884.92400             False   \n",
       "1   18    1  33.770         1       0   1725.55230             False   \n",
       "2   28    1  33.000         3       0   4449.46200             False   \n",
       "3   33    1  22.705         0       0  21984.47061             False   \n",
       "4   32    1  28.880         0       0   3866.85520             False   \n",
       "\n",
       "   region_northwest  region_southeast  region_southwest  \n",
       "0             False             False              True  \n",
       "1             False              True             False  \n",
       "2             False              True             False  \n",
       "3              True             False             False  \n",
       "4              True             False             False  "
      ],
      "text/html": [
       "<div>\n",
       "<style scoped>\n",
       "    .dataframe tbody tr th:only-of-type {\n",
       "        vertical-align: middle;\n",
       "    }\n",
       "\n",
       "    .dataframe tbody tr th {\n",
       "        vertical-align: top;\n",
       "    }\n",
       "\n",
       "    .dataframe thead th {\n",
       "        text-align: right;\n",
       "    }\n",
       "</style>\n",
       "<table border=\"1\" class=\"dataframe\">\n",
       "  <thead>\n",
       "    <tr style=\"text-align: right;\">\n",
       "      <th></th>\n",
       "      <th>age</th>\n",
       "      <th>sex</th>\n",
       "      <th>bmi</th>\n",
       "      <th>children</th>\n",
       "      <th>smoker</th>\n",
       "      <th>charges</th>\n",
       "      <th>region_northeast</th>\n",
       "      <th>region_northwest</th>\n",
       "      <th>region_southeast</th>\n",
       "      <th>region_southwest</th>\n",
       "    </tr>\n",
       "  </thead>\n",
       "  <tbody>\n",
       "    <tr>\n",
       "      <th>0</th>\n",
       "      <td>19</td>\n",
       "      <td>0</td>\n",
       "      <td>27.900</td>\n",
       "      <td>0</td>\n",
       "      <td>1</td>\n",
       "      <td>16884.92400</td>\n",
       "      <td>False</td>\n",
       "      <td>False</td>\n",
       "      <td>False</td>\n",
       "      <td>True</td>\n",
       "    </tr>\n",
       "    <tr>\n",
       "      <th>1</th>\n",
       "      <td>18</td>\n",
       "      <td>1</td>\n",
       "      <td>33.770</td>\n",
       "      <td>1</td>\n",
       "      <td>0</td>\n",
       "      <td>1725.55230</td>\n",
       "      <td>False</td>\n",
       "      <td>False</td>\n",
       "      <td>True</td>\n",
       "      <td>False</td>\n",
       "    </tr>\n",
       "    <tr>\n",
       "      <th>2</th>\n",
       "      <td>28</td>\n",
       "      <td>1</td>\n",
       "      <td>33.000</td>\n",
       "      <td>3</td>\n",
       "      <td>0</td>\n",
       "      <td>4449.46200</td>\n",
       "      <td>False</td>\n",
       "      <td>False</td>\n",
       "      <td>True</td>\n",
       "      <td>False</td>\n",
       "    </tr>\n",
       "    <tr>\n",
       "      <th>3</th>\n",
       "      <td>33</td>\n",
       "      <td>1</td>\n",
       "      <td>22.705</td>\n",
       "      <td>0</td>\n",
       "      <td>0</td>\n",
       "      <td>21984.47061</td>\n",
       "      <td>False</td>\n",
       "      <td>True</td>\n",
       "      <td>False</td>\n",
       "      <td>False</td>\n",
       "    </tr>\n",
       "    <tr>\n",
       "      <th>4</th>\n",
       "      <td>32</td>\n",
       "      <td>1</td>\n",
       "      <td>28.880</td>\n",
       "      <td>0</td>\n",
       "      <td>0</td>\n",
       "      <td>3866.85520</td>\n",
       "      <td>False</td>\n",
       "      <td>True</td>\n",
       "      <td>False</td>\n",
       "      <td>False</td>\n",
       "    </tr>\n",
       "  </tbody>\n",
       "</table>\n",
       "</div>"
      ]
     },
     "execution_count": 36,
     "metadata": {},
     "output_type": "execute_result"
    }
   ],
   "execution_count": 36
  },
  {
   "metadata": {
    "ExecuteTime": {
     "end_time": "2025-05-26T12:10:10.497543Z",
     "start_time": "2025-05-26T12:10:10.494442Z"
    }
   },
   "cell_type": "code",
   "source": [
    "features = data.drop('charges', axis=1).columns\n",
    "X, y = data[features], data['charges']"
   ],
   "id": "55fed42df96efa64",
   "outputs": [],
   "execution_count": 37
  },
  {
   "metadata": {
    "ExecuteTime": {
     "end_time": "2025-05-26T12:10:10.540124Z",
     "start_time": "2025-05-26T12:10:10.536311Z"
    }
   },
   "cell_type": "code",
   "source": [
    "X_train, X_test, y_train, y_test = train_test_split(X, y, test_size=0.2, random_state=42)\n",
    "print('Test set size:', X_test.shape[0])"
   ],
   "id": "67094c00dd65420e",
   "outputs": [
    {
     "name": "stdout",
     "output_type": "stream",
     "text": [
      "Test set size: 268\n"
     ]
    }
   ],
   "execution_count": 38
  },
  {
   "metadata": {
    "ExecuteTime": {
     "end_time": "2025-05-26T12:10:10.592086Z",
     "start_time": "2025-05-26T12:10:10.587551Z"
    }
   },
   "cell_type": "code",
   "source": [
    "# Min-max normalization\n",
    "scaler = MinMaxScaler()\n",
    "scaler.fit(X_train)\n",
    "X_train_scaled = scaler.transform(X_train)\n",
    "X_test_scaled = scaler.transform(X_test)\n"
   ],
   "id": "e10d4bd77bb40e06",
   "outputs": [],
   "execution_count": 39
  },
  {
   "metadata": {
    "ExecuteTime": {
     "end_time": "2025-05-26T12:10:10.598639Z",
     "start_time": "2025-05-26T12:10:10.594092Z"
    }
   },
   "cell_type": "code",
   "source": [
    "# Polynomial features (degree 2)\n",
    "poly = PolynomialFeatures(degree=2, include_bias=False)\n",
    "poly.fit(X_train_scaled)\n",
    "X_train_poly = poly.transform(X_train_scaled)\n",
    "X_test_poly = poly.transform(X_test_scaled)\n",
    "print('Resulting number of columns:', X_train_poly.shape[1])\n"
   ],
   "id": "5883e7899b1d5c80",
   "outputs": [
    {
     "name": "stdout",
     "output_type": "stream",
     "text": [
      "Resulting number of columns: 54\n"
     ]
    }
   ],
   "execution_count": 40
  },
  {
   "metadata": {
    "ExecuteTime": {
     "end_time": "2025-05-26T12:10:10.617776Z",
     "start_time": "2025-05-26T12:10:10.611543Z"
    }
   },
   "cell_type": "code",
   "source": [
    "lr = LinearRegression()\n",
    "lr.fit(X_train_poly, y_train)\n",
    "print('Intercept:', round(lr.intercept_, 2))\n",
    "\n",
    "# Print model coefficients\n",
    "print('Model coefficients:')\n",
    "print(lr.coef_)\n",
    "print('Max coefficient:', np.max(lr.coef_))\n",
    "print('Min coefficient:', np.min(lr.coef_))\n",
    "print('Max absolute coefficient:', np.max(np.abs(lr.coef_)))\n",
    "# Если значения коэффициентов очень большие (например, больше 1e3), модель неустойчива и нужна регуляризация.\n"
   ],
   "id": "6af4bcfd3915abe",
   "outputs": [
    {
     "name": "stdout",
     "output_type": "stream",
     "text": [
      "Intercept: 2227.73\n",
      "Model coefficients:\n",
      "[ 2849.35067435  -417.24034999  5935.92169643  4636.08544526\n",
      "  1139.1491985    351.86496094  -366.48563336   227.08922666\n",
      "  -212.46855424  8399.63608632   812.46558472   995.68651894\n",
      " -1666.91118191   172.50303109  -848.02252419   280.84325571\n",
      "  1455.92298005  1960.60696278  -417.24034999   647.47475622\n",
      " -1238.19812114   257.33745404  -966.67881613   311.8232212\n",
      "   544.21466602  -306.59942109 -9711.00034091  1559.87212018\n",
      " 54839.212545    3782.01457236  2765.86075737  -794.72610916\n",
      "   182.77247586 -2090.61756751 -2233.48411893  2438.06291171\n",
      "  2463.6574199    410.25306251  -675.88794885  1139.1491985\n",
      "   318.56157022  -298.80831333  -589.98196067  1709.37790228\n",
      "   351.86496094     0.             0.             0.\n",
      "  -366.48563336     0.             0.           227.08922666\n",
      "     0.          -212.46855424]\n",
      "Max coefficient: 54839.212545003145\n",
      "Min coefficient: -9711.00034091222\n",
      "Max absolute coefficient: 54839.212545003145\n"
     ]
    }
   ],
   "execution_count": 41
  },
  {
   "metadata": {
    "ExecuteTime": {
     "end_time": "2025-05-26T12:10:10.694036Z",
     "start_time": "2025-05-26T12:10:10.690849Z"
    }
   },
   "cell_type": "code",
   "source": [
    "# Предсказания на обучающей и тестовой выборках\n",
    "train_pred = lr.predict(X_train_poly)\n",
    "test_pred = lr.predict(X_test_poly)\n"
   ],
   "id": "dce520e42fb8fba",
   "outputs": [],
   "execution_count": 42
  },
  {
   "metadata": {
    "ExecuteTime": {
     "end_time": "2025-05-26T12:10:10.717490Z",
     "start_time": "2025-05-26T12:10:10.710350Z"
    }
   },
   "cell_type": "code",
   "source": [
    "# Метрики качества\n",
    "r2_train = metrics.r2_score(y_train, train_pred)\n",
    "r2_test = metrics.r2_score(y_test, test_pred)\n",
    "mae_train = metrics.mean_absolute_error(y_train, train_pred)\n",
    "mae_test = metrics.mean_absolute_error(y_test, test_pred)\n",
    "mape_train = metrics.mean_absolute_percentage_error(y_train, train_pred) * 100\n",
    "mape_test = metrics.mean_absolute_percentage_error(y_test, test_pred) * 100\n",
    "\n",
    "print(f'R2 на обучающей выборке: {r2_train:.3f}, на тестовой: {r2_test:.3f}')\n",
    "print(f'MAE на обучающей выборке: {mae_train:.2f}, на тестовой: {mae_test:.2f}')\n",
    "print(f'MAPE на обучающей выборке: {mape_train:.2f}%, на тестовой: {mape_test:.2f}%')\n"
   ],
   "id": "13e5abf28727dd8c",
   "outputs": [
    {
     "name": "stdout",
     "output_type": "stream",
     "text": [
      "R2 на обучающей выборке: 0.842, на тестовой: 0.867\n",
      "MAE на обучающей выборке: 2892.15, на тестовой: 2729.50\n",
      "MAPE на обучающей выборке: 29.40%, на тестовой: 30.20%\n"
     ]
    }
   ],
   "execution_count": 43
  },
  {
   "metadata": {
    "ExecuteTime": {
     "end_time": "2025-05-26T12:10:10.755226Z",
     "start_time": "2025-05-26T12:10:10.748709Z"
    }
   },
   "cell_type": "code",
   "source": [
    "# Обучение модели линейной регрессии на полиномиальных признаках и вывод R2 на тесте\n",
    "lr_poly = LinearRegression()\n",
    "lr_poly.fit(X_train_poly, y_train)\n",
    "test_pred_poly = lr_poly.predict(X_test_poly)\n",
    "r2_test_poly = metrics.r2_score(y_test, test_pred_poly)\n",
    "print(f'R2 на тестовой выборке (полиномиальные признаки): {r2_test_poly:.3f}')\n"
   ],
   "id": "d134fc78b97b4c75",
   "outputs": [
    {
     "name": "stdout",
     "output_type": "stream",
     "text": [
      "R2 на тестовой выборке (полиномиальные признаки): 0.867\n"
     ]
    }
   ],
   "execution_count": 44
  },
  {
   "metadata": {
    "ExecuteTime": {
     "end_time": "2025-05-26T12:10:10.880Z",
     "start_time": "2025-05-26T12:10:10.791865Z"
    }
   },
   "cell_type": "code",
   "source": [
    "# Boxplot ошибок модели\n",
    "train_errors = y_train - train_pred\n",
    "test_errors = y_test - test_pred\n",
    "errors_df = pd.DataFrame({'Ошибки на обучающей': train_errors, 'Ошибки на тестовой': test_errors})\n",
    "plt.figure(figsize=(10, 6))\n",
    "sns.boxplot(data=errors_df)\n",
    "plt.title('Boxplot ошибок линейной регрессии')\n",
    "plt.ylabel('Ошибка (y - ŷ)')\n",
    "plt.show()"
   ],
   "id": "f98b34471b908e3e",
   "outputs": [
    {
     "data": {
      "text/plain": [
       "<Figure size 1000x600 with 1 Axes>"
      ],
      "image/png": "[encoded data removed]"
     },
     "metadata": {},
     "output_type": "display_data"
    }
   ],
   "execution_count": 45
  }
 ],
 "metadata": {
  "kernelspec": {
   "display_name": "Python 3",
   "language": "python",
   "name": "python3"
  },
  "language_info": {
   "codemirror_mode": {
    "name": "ipython",
    "version": 2
   },
   "file_extension": ".py",
   "mimetype": "text/x-python",
   "name": "python",
   "nbconvert_exporter": "python",
   "pygments_lexer": "ipython2",
   "version": "2.7.6"
  }
 },
 "nbformat": 4,
 "nbformat_minor": 5
}
